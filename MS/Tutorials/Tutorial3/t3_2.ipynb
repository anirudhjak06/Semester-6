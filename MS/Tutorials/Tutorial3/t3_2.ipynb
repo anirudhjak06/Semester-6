{
 "cells": [
  {
   "cell_type": "code",
   "execution_count": 5,
   "metadata": {},
   "outputs": [
    {
     "name": "stdout",
     "output_type": "stream",
     "text": [
      "Moviepy - Building video Output_1.mp4.\n",
      "MoviePy - Writing audio in Output_1TEMP_MPY_wvf_snd.mp3\n"
     ]
    },
    {
     "name": "stderr",
     "output_type": "stream",
     "text": [
      "                                                                   \r"
     ]
    },
    {
     "name": "stdout",
     "output_type": "stream",
     "text": [
      "MoviePy - Done.\n",
      "Moviepy - Writing video Output_1.mp4\n",
      "\n"
     ]
    },
    {
     "name": "stderr",
     "output_type": "stream",
     "text": [
      "                                                               \r"
     ]
    },
    {
     "name": "stdout",
     "output_type": "stream",
     "text": [
      "Moviepy - Done !\n",
      "Moviepy - video ready Output_1.mp4\n"
     ]
    },
    {
     "ename": "OSError",
     "evalue": "MoviePy Error: creation of None failed because of the following error:\n\n[WinError 2] The system cannot find the file specified.\n\n.This error can be due to the fact that ImageMagick is not installed on your computer, or (for Windows users) that you didn't specify the path to the ImageMagick binary in file conf.py, or that the path you specified is incorrect",
     "output_type": "error",
     "traceback": [
      "\u001b[1;31m---------------------------------------------------------------------------\u001b[0m",
      "\u001b[1;31mFileNotFoundError\u001b[0m                         Traceback (most recent call last)",
      "File \u001b[1;32m~\\AppData\\Local\\Programs\\Python\\Python39\\lib\\site-packages\\moviepy\\video\\VideoClip.py:1137\u001b[0m, in \u001b[0;36mTextClip.__init__\u001b[1;34m(self, txt, filename, size, color, bg_color, fontsize, font, stroke_color, stroke_width, method, kerning, align, interline, tempfilename, temptxt, transparent, remove_temp, print_cmd)\u001b[0m\n\u001b[0;32m   <a href='file:///c%3A/Users/aniru/AppData/Local/Programs/Python/Python39/lib/site-packages/moviepy/video/VideoClip.py?line=1135'>1136</a>\u001b[0m \u001b[39mtry\u001b[39;00m:\n\u001b[1;32m-> <a href='file:///c%3A/Users/aniru/AppData/Local/Programs/Python/Python39/lib/site-packages/moviepy/video/VideoClip.py?line=1136'>1137</a>\u001b[0m     subprocess_call(cmd, logger\u001b[39m=\u001b[39;49m\u001b[39mNone\u001b[39;49;00m)\n\u001b[0;32m   <a href='file:///c%3A/Users/aniru/AppData/Local/Programs/Python/Python39/lib/site-packages/moviepy/video/VideoClip.py?line=1137'>1138</a>\u001b[0m \u001b[39mexcept\u001b[39;00m (\u001b[39mIOError\u001b[39;00m, \u001b[39mOSError\u001b[39;00m) \u001b[39mas\u001b[39;00m err:\n",
      "File \u001b[1;32m~\\AppData\\Local\\Programs\\Python\\Python39\\lib\\site-packages\\moviepy\\tools.py:46\u001b[0m, in \u001b[0;36msubprocess_call\u001b[1;34m(cmd, logger, errorprint)\u001b[0m\n\u001b[0;32m     <a href='file:///c%3A/Users/aniru/AppData/Local/Programs/Python/Python39/lib/site-packages/moviepy/tools.py?line=43'>44</a>\u001b[0m     popen_params[\u001b[39m\"\u001b[39m\u001b[39mcreationflags\u001b[39m\u001b[39m\"\u001b[39m] \u001b[39m=\u001b[39m \u001b[39m0x08000000\u001b[39m\n\u001b[1;32m---> <a href='file:///c%3A/Users/aniru/AppData/Local/Programs/Python/Python39/lib/site-packages/moviepy/tools.py?line=45'>46</a>\u001b[0m proc \u001b[39m=\u001b[39m sp\u001b[39m.\u001b[39mPopen(cmd, \u001b[39m*\u001b[39m\u001b[39m*\u001b[39mpopen_params)\n\u001b[0;32m     <a href='file:///c%3A/Users/aniru/AppData/Local/Programs/Python/Python39/lib/site-packages/moviepy/tools.py?line=47'>48</a>\u001b[0m out, err \u001b[39m=\u001b[39m proc\u001b[39m.\u001b[39mcommunicate() \u001b[39m# proc.wait()\u001b[39;00m\n",
      "File \u001b[1;32m~\\AppData\\Local\\Programs\\Python\\Python39\\lib\\subprocess.py:951\u001b[0m, in \u001b[0;36mPopen.__init__\u001b[1;34m(self, args, bufsize, executable, stdin, stdout, stderr, preexec_fn, close_fds, shell, cwd, env, universal_newlines, startupinfo, creationflags, restore_signals, start_new_session, pass_fds, user, group, extra_groups, encoding, errors, text, umask)\u001b[0m\n\u001b[0;32m    <a href='file:///c%3A/Users/aniru/AppData/Local/Programs/Python/Python39/lib/subprocess.py?line=947'>948</a>\u001b[0m             \u001b[39mself\u001b[39m\u001b[39m.\u001b[39mstderr \u001b[39m=\u001b[39m io\u001b[39m.\u001b[39mTextIOWrapper(\u001b[39mself\u001b[39m\u001b[39m.\u001b[39mstderr,\n\u001b[0;32m    <a href='file:///c%3A/Users/aniru/AppData/Local/Programs/Python/Python39/lib/subprocess.py?line=948'>949</a>\u001b[0m                     encoding\u001b[39m=\u001b[39mencoding, errors\u001b[39m=\u001b[39merrors)\n\u001b[1;32m--> <a href='file:///c%3A/Users/aniru/AppData/Local/Programs/Python/Python39/lib/subprocess.py?line=950'>951</a>\u001b[0m     \u001b[39mself\u001b[39;49m\u001b[39m.\u001b[39;49m_execute_child(args, executable, preexec_fn, close_fds,\n\u001b[0;32m    <a href='file:///c%3A/Users/aniru/AppData/Local/Programs/Python/Python39/lib/subprocess.py?line=951'>952</a>\u001b[0m                         pass_fds, cwd, env,\n\u001b[0;32m    <a href='file:///c%3A/Users/aniru/AppData/Local/Programs/Python/Python39/lib/subprocess.py?line=952'>953</a>\u001b[0m                         startupinfo, creationflags, shell,\n\u001b[0;32m    <a href='file:///c%3A/Users/aniru/AppData/Local/Programs/Python/Python39/lib/subprocess.py?line=953'>954</a>\u001b[0m                         p2cread, p2cwrite,\n\u001b[0;32m    <a href='file:///c%3A/Users/aniru/AppData/Local/Programs/Python/Python39/lib/subprocess.py?line=954'>955</a>\u001b[0m                         c2pread, c2pwrite,\n\u001b[0;32m    <a href='file:///c%3A/Users/aniru/AppData/Local/Programs/Python/Python39/lib/subprocess.py?line=955'>956</a>\u001b[0m                         errread, errwrite,\n\u001b[0;32m    <a href='file:///c%3A/Users/aniru/AppData/Local/Programs/Python/Python39/lib/subprocess.py?line=956'>957</a>\u001b[0m                         restore_signals,\n\u001b[0;32m    <a href='file:///c%3A/Users/aniru/AppData/Local/Programs/Python/Python39/lib/subprocess.py?line=957'>958</a>\u001b[0m                         gid, gids, uid, umask,\n\u001b[0;32m    <a href='file:///c%3A/Users/aniru/AppData/Local/Programs/Python/Python39/lib/subprocess.py?line=958'>959</a>\u001b[0m                         start_new_session)\n\u001b[0;32m    <a href='file:///c%3A/Users/aniru/AppData/Local/Programs/Python/Python39/lib/subprocess.py?line=959'>960</a>\u001b[0m \u001b[39mexcept\u001b[39;00m:\n\u001b[0;32m    <a href='file:///c%3A/Users/aniru/AppData/Local/Programs/Python/Python39/lib/subprocess.py?line=960'>961</a>\u001b[0m     \u001b[39m# Cleanup if the child failed starting.\u001b[39;00m\n",
      "File \u001b[1;32m~\\AppData\\Local\\Programs\\Python\\Python39\\lib\\subprocess.py:1420\u001b[0m, in \u001b[0;36mPopen._execute_child\u001b[1;34m(self, args, executable, preexec_fn, close_fds, pass_fds, cwd, env, startupinfo, creationflags, shell, p2cread, p2cwrite, c2pread, c2pwrite, errread, errwrite, unused_restore_signals, unused_gid, unused_gids, unused_uid, unused_umask, unused_start_new_session)\u001b[0m\n\u001b[0;32m   <a href='file:///c%3A/Users/aniru/AppData/Local/Programs/Python/Python39/lib/subprocess.py?line=1418'>1419</a>\u001b[0m \u001b[39mtry\u001b[39;00m:\n\u001b[1;32m-> <a href='file:///c%3A/Users/aniru/AppData/Local/Programs/Python/Python39/lib/subprocess.py?line=1419'>1420</a>\u001b[0m     hp, ht, pid, tid \u001b[39m=\u001b[39m _winapi\u001b[39m.\u001b[39;49mCreateProcess(executable, args,\n\u001b[0;32m   <a href='file:///c%3A/Users/aniru/AppData/Local/Programs/Python/Python39/lib/subprocess.py?line=1420'>1421</a>\u001b[0m                              \u001b[39m# no special security\u001b[39;49;00m\n\u001b[0;32m   <a href='file:///c%3A/Users/aniru/AppData/Local/Programs/Python/Python39/lib/subprocess.py?line=1421'>1422</a>\u001b[0m                              \u001b[39mNone\u001b[39;49;00m, \u001b[39mNone\u001b[39;49;00m,\n\u001b[0;32m   <a href='file:///c%3A/Users/aniru/AppData/Local/Programs/Python/Python39/lib/subprocess.py?line=1422'>1423</a>\u001b[0m                              \u001b[39mint\u001b[39;49m(\u001b[39mnot\u001b[39;49;00m close_fds),\n\u001b[0;32m   <a href='file:///c%3A/Users/aniru/AppData/Local/Programs/Python/Python39/lib/subprocess.py?line=1423'>1424</a>\u001b[0m                              creationflags,\n\u001b[0;32m   <a href='file:///c%3A/Users/aniru/AppData/Local/Programs/Python/Python39/lib/subprocess.py?line=1424'>1425</a>\u001b[0m                              env,\n\u001b[0;32m   <a href='file:///c%3A/Users/aniru/AppData/Local/Programs/Python/Python39/lib/subprocess.py?line=1425'>1426</a>\u001b[0m                              cwd,\n\u001b[0;32m   <a href='file:///c%3A/Users/aniru/AppData/Local/Programs/Python/Python39/lib/subprocess.py?line=1426'>1427</a>\u001b[0m                              startupinfo)\n\u001b[0;32m   <a href='file:///c%3A/Users/aniru/AppData/Local/Programs/Python/Python39/lib/subprocess.py?line=1427'>1428</a>\u001b[0m \u001b[39mfinally\u001b[39;00m:\n\u001b[0;32m   <a href='file:///c%3A/Users/aniru/AppData/Local/Programs/Python/Python39/lib/subprocess.py?line=1428'>1429</a>\u001b[0m     \u001b[39m# Child is launched. Close the parent's copy of those pipe\u001b[39;00m\n\u001b[0;32m   <a href='file:///c%3A/Users/aniru/AppData/Local/Programs/Python/Python39/lib/subprocess.py?line=1429'>1430</a>\u001b[0m     \u001b[39m# handles that only the child should have open.  You need\u001b[39;00m\n\u001b[1;32m   (...)\u001b[0m\n\u001b[0;32m   <a href='file:///c%3A/Users/aniru/AppData/Local/Programs/Python/Python39/lib/subprocess.py?line=1432'>1433</a>\u001b[0m     \u001b[39m# pipe will not close when the child process exits and the\u001b[39;00m\n\u001b[0;32m   <a href='file:///c%3A/Users/aniru/AppData/Local/Programs/Python/Python39/lib/subprocess.py?line=1433'>1434</a>\u001b[0m     \u001b[39m# ReadFile will hang.\u001b[39;00m\n",
      "\u001b[1;31mFileNotFoundError\u001b[0m: [WinError 2] The system cannot find the file specified",
      "\nDuring handling of the above exception, another exception occurred:\n",
      "\u001b[1;31mOSError\u001b[0m                                   Traceback (most recent call last)",
      "\u001b[1;32mc:\\Users\\aniru\\Documents\\SEM6\\MS\\Tutorials\\Tutorial3\\t3_2.ipynb Cell 1'\u001b[0m in \u001b[0;36m<module>\u001b[1;34m\u001b[0m\n\u001b[0;32m      <a href='vscode-notebook-cell:/c%3A/Users/aniru/Documents/SEM6/MS/Tutorials/Tutorial3/t3_2.ipynb#ch0000000?line=8'>9</a>\u001b[0m final_clip\u001b[39m.\u001b[39mwrite_videofile(\u001b[39m\"\u001b[39m\u001b[39mOutput_1.mp4\u001b[39m\u001b[39m\"\u001b[39m)\n\u001b[0;32m     <a href='vscode-notebook-cell:/c%3A/Users/aniru/Documents/SEM6/MS/Tutorials/Tutorial3/t3_2.ipynb#ch0000000?line=10'>11</a>\u001b[0m \u001b[39m#View the clip\u001b[39;00m\n\u001b[0;32m     <a href='vscode-notebook-cell:/c%3A/Users/aniru/Documents/SEM6/MS/Tutorials/Tutorial3/t3_2.ipynb#ch0000000?line=11'>12</a>\u001b[0m \u001b[39m# previewing the clip at fps=20\u001b[39;00m\n\u001b[0;32m     <a href='vscode-notebook-cell:/c%3A/Users/aniru/Documents/SEM6/MS/Tutorials/Tutorial3/t3_2.ipynb#ch0000000?line=12'>13</a>\u001b[0m \n\u001b[1;32m   (...)\u001b[0m\n\u001b[0;32m     <a href='vscode-notebook-cell:/c%3A/Users/aniru/Documents/SEM6/MS/Tutorials/Tutorial3/t3_2.ipynb#ch0000000?line=15'>16</a>\u001b[0m \u001b[39m## Add text to the clip\u001b[39;00m\n\u001b[0;32m     <a href='vscode-notebook-cell:/c%3A/Users/aniru/Documents/SEM6/MS/Tutorials/Tutorial3/t3_2.ipynb#ch0000000?line=16'>17</a>\u001b[0m \u001b[39m# Generate a text clip\u001b[39;00m\n\u001b[1;32m---> <a href='vscode-notebook-cell:/c%3A/Users/aniru/Documents/SEM6/MS/Tutorials/Tutorial3/t3_2.ipynb#ch0000000?line=17'>18</a>\u001b[0m txt_clip\u001b[39m=\u001b[39mTextClip(\u001b[39m\"\u001b[39;49m\u001b[39mMy Video Clip\u001b[39;49m\u001b[39m\"\u001b[39;49m,fontsize\u001b[39m=\u001b[39;49m\u001b[39m75\u001b[39;49m,color\u001b[39m=\u001b[39;49m\u001b[39m'\u001b[39;49m\u001b[39mblack\u001b[39;49m\u001b[39m'\u001b[39;49m)\n\u001b[0;32m     <a href='vscode-notebook-cell:/c%3A/Users/aniru/Documents/SEM6/MS/Tutorials/Tutorial3/t3_2.ipynb#ch0000000?line=19'>20</a>\u001b[0m \u001b[39m# setting position of text in the center and duration will be 10 seconds\u001b[39;00m\n\u001b[0;32m     <a href='vscode-notebook-cell:/c%3A/Users/aniru/Documents/SEM6/MS/Tutorials/Tutorial3/t3_2.ipynb#ch0000000?line=20'>21</a>\u001b[0m txt_clip\u001b[39m=\u001b[39mtxt_clip\u001b[39m.\u001b[39mset_pos(\u001b[39m'\u001b[39m\u001b[39mcenter\u001b[39m\u001b[39m'\u001b[39m)\u001b[39m.\u001b[39mset_duration(\u001b[39m10\u001b[39m)\n",
      "File \u001b[1;32m~\\AppData\\Local\\Programs\\Python\\Python39\\lib\\site-packages\\moviepy\\video\\VideoClip.py:1146\u001b[0m, in \u001b[0;36mTextClip.__init__\u001b[1;34m(self, txt, filename, size, color, bg_color, fontsize, font, stroke_color, stroke_width, method, kerning, align, interline, tempfilename, temptxt, transparent, remove_temp, print_cmd)\u001b[0m\n\u001b[0;32m   <a href='file:///c%3A/Users/aniru/AppData/Local/Programs/Python/Python39/lib/site-packages/moviepy/video/VideoClip.py?line=1137'>1138</a>\u001b[0m \u001b[39mexcept\u001b[39;00m (\u001b[39mIOError\u001b[39;00m, \u001b[39mOSError\u001b[39;00m) \u001b[39mas\u001b[39;00m err:\n\u001b[0;32m   <a href='file:///c%3A/Users/aniru/AppData/Local/Programs/Python/Python39/lib/site-packages/moviepy/video/VideoClip.py?line=1138'>1139</a>\u001b[0m     error \u001b[39m=\u001b[39m (\u001b[39m\"\u001b[39m\u001b[39mMoviePy Error: creation of \u001b[39m\u001b[39m%s\u001b[39;00m\u001b[39m failed because of the \u001b[39m\u001b[39m\"\u001b[39m\n\u001b[0;32m   <a href='file:///c%3A/Users/aniru/AppData/Local/Programs/Python/Python39/lib/site-packages/moviepy/video/VideoClip.py?line=1139'>1140</a>\u001b[0m              \u001b[39m\"\u001b[39m\u001b[39mfollowing error:\u001b[39m\u001b[39m\\n\u001b[39;00m\u001b[39m\\n\u001b[39;00m\u001b[39m%s\u001b[39;00m\u001b[39m.\u001b[39m\u001b[39m\\n\u001b[39;00m\u001b[39m\\n\u001b[39;00m\u001b[39m.\u001b[39m\u001b[39m\"\u001b[39m \u001b[39m%\u001b[39m (filename, \u001b[39mstr\u001b[39m(err))\n\u001b[0;32m   <a href='file:///c%3A/Users/aniru/AppData/Local/Programs/Python/Python39/lib/site-packages/moviepy/video/VideoClip.py?line=1140'>1141</a>\u001b[0m              \u001b[39m+\u001b[39m (\u001b[39m\"\u001b[39m\u001b[39mThis error can be due to the fact that ImageMagick \u001b[39m\u001b[39m\"\u001b[39m\n\u001b[1;32m   (...)\u001b[0m\n\u001b[0;32m   <a href='file:///c%3A/Users/aniru/AppData/Local/Programs/Python/Python39/lib/site-packages/moviepy/video/VideoClip.py?line=1143'>1144</a>\u001b[0m                 \u001b[39m\"\u001b[39m\u001b[39mImageMagick binary in file conf.py, or that the path \u001b[39m\u001b[39m\"\u001b[39m\n\u001b[0;32m   <a href='file:///c%3A/Users/aniru/AppData/Local/Programs/Python/Python39/lib/site-packages/moviepy/video/VideoClip.py?line=1144'>1145</a>\u001b[0m                 \u001b[39m\"\u001b[39m\u001b[39myou specified is incorrect\u001b[39m\u001b[39m\"\u001b[39m))\n\u001b[1;32m-> <a href='file:///c%3A/Users/aniru/AppData/Local/Programs/Python/Python39/lib/site-packages/moviepy/video/VideoClip.py?line=1145'>1146</a>\u001b[0m     \u001b[39mraise\u001b[39;00m \u001b[39mIOError\u001b[39;00m(error)\n\u001b[0;32m   <a href='file:///c%3A/Users/aniru/AppData/Local/Programs/Python/Python39/lib/site-packages/moviepy/video/VideoClip.py?line=1147'>1148</a>\u001b[0m ImageClip\u001b[39m.\u001b[39m\u001b[39m__init__\u001b[39m(\u001b[39mself\u001b[39m, tempfilename, transparent\u001b[39m=\u001b[39mtransparent)\n\u001b[0;32m   <a href='file:///c%3A/Users/aniru/AppData/Local/Programs/Python/Python39/lib/site-packages/moviepy/video/VideoClip.py?line=1148'>1149</a>\u001b[0m \u001b[39mself\u001b[39m\u001b[39m.\u001b[39mtxt \u001b[39m=\u001b[39m txt\n",
      "\u001b[1;31mOSError\u001b[0m: MoviePy Error: creation of None failed because of the following error:\n\n[WinError 2] The system cannot find the file specified.\n\n.This error can be due to the fact that ImageMagick is not installed on your computer, or (for Windows users) that you didn't specify the path to the ImageMagick binary in file conf.py, or that the path you specified is incorrect"
     ]
    }
   ],
   "source": [
    "from numpy import concatenate\n",
    "from moviepy.editor import *\n",
    "clip=VideoFileClip(\"sample-mp4-file.mp4\")\n",
    "clip1=clip.subclip(56,66)\n",
    "clip2=clip.subclip(70,76)\n",
    "clip3=clip.subclip(50,52)\n",
    "clip4=clip.subclip(30,35)\n",
    "final_clip=concatenate_videoclips([clip1,clip2,clip3,clip4])\n",
    "final_clip.write_videofile(\"Output_1.mp4\")\n",
    "\n",
    "#View the clip\n",
    "# previewing the clip at fps=20\n",
    "\n",
    "# clip.preview(fps=20)\n",
    "\n",
    "## Add text to the clip\n",
    "# Generate a text clip\n",
    "txt_clip=TextClip(\"My Video Clip\",fontsize=75,color='black')\n",
    "\n",
    "# setting position of text in the center and duration will be 10 seconds\n",
    "txt_clip=txt_clip.set_pos('center').set_duration(10)\n",
    "\n",
    "#Overlay the text clip on the first video clip\n",
    "video=CompositeVideoClip([clip,txt_clip])\n",
    "\n",
    "\n",
    "#clip=VideoFileClip(\"sample-mp4-file.mp4\").subclip(56,66)"
   ]
  },
  {
   "cell_type": "code",
   "execution_count": 4,
   "metadata": {},
   "outputs": [
    {
     "data": {
      "text/plain": [
       "<moviepy.video.io.VideoFileClip.VideoFileClip at 0x2989daa2970>"
      ]
     },
     "execution_count": 4,
     "metadata": {},
     "output_type": "execute_result"
    }
   ],
   "source": [
    "clip=VideoFileClip(\"sample-mp4-file.mp4\")\n",
    "clip"
   ]
  },
  {
   "cell_type": "code",
   "execution_count": 3,
   "metadata": {},
   "outputs": [],
   "source": [
    "clip=VideoFileClip(\"sample-mp4-file.mp4\").subclip(56,66)"
   ]
  },
  {
   "cell_type": "code",
   "execution_count": 4,
   "metadata": {},
   "outputs": [
    {
     "data": {
      "text/plain": [
       "<moviepy.video.io.VideoFileClip.VideoFileClip at 0x26e25f50e50>"
      ]
     },
     "execution_count": 4,
     "metadata": {},
     "output_type": "execute_result"
    }
   ],
   "source": [
    "clip"
   ]
  },
  {
   "cell_type": "code",
   "execution_count": null,
   "metadata": {},
   "outputs": [],
   "source": []
  }
 ],
 "metadata": {
  "interpreter": {
   "hash": "f66560ba476eaa39100d9654acc9809a0c6cec3f2c36976cd07f2d0fb78740f2"
  },
  "kernelspec": {
   "display_name": "Python 3.9.7 64-bit",
   "language": "python",
   "name": "python3"
  },
  "language_info": {
   "codemirror_mode": {
    "name": "ipython",
    "version": 3
   },
   "file_extension": ".py",
   "mimetype": "text/x-python",
   "name": "python",
   "nbconvert_exporter": "python",
   "pygments_lexer": "ipython3",
   "version": "3.9.7"
  },
  "orig_nbformat": 4
 },
 "nbformat": 4,
 "nbformat_minor": 2
}
