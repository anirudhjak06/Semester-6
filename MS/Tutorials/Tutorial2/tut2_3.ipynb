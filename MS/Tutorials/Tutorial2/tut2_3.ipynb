{
 "cells": [
  {
   "cell_type": "code",
   "execution_count": 1,
   "metadata": {},
   "outputs": [],
   "source": [
    "import pyglet\n",
    "import time"
   ]
  },
  {
   "cell_type": "code",
   "execution_count": 2,
   "metadata": {},
   "outputs": [
    {
     "name": "stderr",
     "output_type": "stream",
     "text": [
      "C:\\Users\\aniru\\AppData\\Local\\Programs\\Python\\Python39\\lib\\site-packages\\pyglet\\image\\codecs\\wic.py:434: UserWarning: [WinError -2147417850] Cannot change thread mode after it is set\n",
      "  warnings.warn(str(err))\n"
     ]
    }
   ],
   "source": [
    "window=pyglet.window.Window(200,200)\n",
    "\n",
    "s0=pyglet.resource.image('car.jpg')\n",
    "s1=pyglet.resource.image(\"car2.jpg\")\n",
    "images=[s0,s1]\n",
    "\n",
    "anim=pyglet.image.Animation.from_image_sequence(images,0.5,True)\n",
    "sprite=pyglet.sprite.Sprite(anim)\n",
    "@window.event\n",
    "def on_draw():\n",
    "    window.clear()\n",
    "    sprite.draw()\n",
    "pyglet.app.run()"
   ]
  },
  {
   "cell_type": "code",
   "execution_count": null,
   "metadata": {},
   "outputs": [],
   "source": []
  }
 ],
 "metadata": {
  "interpreter": {
   "hash": "f66560ba476eaa39100d9654acc9809a0c6cec3f2c36976cd07f2d0fb78740f2"
  },
  "kernelspec": {
   "display_name": "Python 3.9.7 64-bit",
   "language": "python",
   "name": "python3"
  },
  "language_info": {
   "codemirror_mode": {
    "name": "ipython",
    "version": 3
   },
   "file_extension": ".py",
   "mimetype": "text/x-python",
   "name": "python",
   "nbconvert_exporter": "python",
   "pygments_lexer": "ipython3",
   "version": "3.9.7"
  },
  "orig_nbformat": 4
 },
 "nbformat": 4,
 "nbformat_minor": 2
}
